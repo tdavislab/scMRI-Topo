{
 "cells": [
  {
   "cell_type": "markdown",
   "metadata": {},
   "source": [
    "# Permutation test with $\\beta_0$ curves of SCGs\n",
    "\n",
    "In this notebook, we describe the permutation test where the test statistic is the largest gap between the $\\beta_0$ curves obtained from SCGs of ASD and TDC groups.\n",
    "\n",
    "Our data consists of 49 ASD and 49 TDC subjects. For each subject, and for predetermined set of ROIs, we obtain gray matter density values from clinical MRIs. Then, for each group of subjects (ASD and TDC) we construct an SCG (structural correlation graph). It is a weighted, undirected, complete graph. Its vertices represent the ROIs and the edge weights are given by the correlations across subjects between gray matter densities of corresponding ROIs.\n",
    "\n",
    "Given two SCGs (one for ASD subjects, one for TDC subjects), we compute the largest gap ($D_q$) between their $\\beta_0$ curves and use it as a test statistic for the permutation test. We perform 1000 permutations, where in each permutation, we randomly swap subjects from ASD and TDC groups, construct SCGs for these new samples, obtain their $\\beta_0$ curves and compute the largest gap. This gives us the null distribution of $D_q$. The percentage of the $D_q$ values greater than the test statistic for the unpermuted samples ($D_q^*$) gives the p-value."
   ]
  },
  {
   "cell_type": "markdown",
   "metadata": {},
   "source": [
    "First, we import the necessary modules and functions from python packages along with the following helper functions:\n",
    "\n",
    "`loadSCGData('ICN')`: Helper function that loads the gray matter density data for the specified ICN ('SN', 'ECN', 'DMN', or 'Global'). It returns two $49\\times m$ numpy arrays, one for ASD subjects and one for TDC subjects. *m* is the number of ROIs underlying the specified ICN.\n",
    "\n",
    "`getMST(icn_asd, icn_tdc)`: This function takes the two numpy arrays returned by `loadSCGData`, constructs the corresponding SCGs, computes and returns their minimum spanning trees.\n",
    "\n",
    "`getBettiCurve(mst_asd, mst_tdc)`: This function takes the two minimum spanning trees computed by `getMST` and obtain the $\\beta_0$ curves using a sequence of thresholds."
   ]
  },
  {
   "cell_type": "code",
   "execution_count": 1,
   "metadata": {},
   "outputs": [],
   "source": [
    "from struct import unpack\n",
    "from os import urandom\n",
    "from helper_functions import loadSCGData, getMST, getBettiCurve\n",
    "import time\n",
    "import numpy as np\n",
    "import multiprocessing as mproc\n",
    "import matplotlib\n",
    "import matplotlib.pyplot as plt"
   ]
  },
  {
   "cell_type": "markdown",
   "metadata": {},
   "source": [
    "Next, we define a function that performs a single permutation."
   ]
  },
  {
   "cell_type": "code",
   "execution_count": 2,
   "metadata": {},
   "outputs": [],
   "source": [
    "def simulate_permutations(sim_input):\n",
    "    simid, icn_asd, icn_tdc, seed = sim_input    # unpack the inputs\n",
    "    ns_asd, nn_asd = np.shape(icn_asd)\n",
    "    ns_tdc, nn_tdc = np.shape(icn_tdc)\n",
    "    if not((ns_asd, nn_asd) == (ns_tdc, nn_tdc)):\n",
    "        print('Error : input data matrices have different shape')\n",
    "        exit(1)\n",
    "\n",
    "    np.random.seed(seed)                         # set random seed (important if using parallel threads)\n",
    "    icn = np.row_stack((icn_asd, icn_tdc))       # Pools the data\n",
    "    np.random.shuffle(icn)                       # Shuffle the rows of the pooled data (each row is a subject).\n",
    "    mst_asd, mst_tdc = getMST(icn[:ns_asd, :], icn[ns_asd:, :])   # Construct SCG, compute MST from permuted samples.\n",
    "    beta_asd, beta_tdc, _ = getBettiCurve(mst_asd, mst_tdc)       # Compute Betti-0 curves\n",
    "    Dq = np.max(abs(np.asarray(beta_asd) - np.asarray(beta_tdc))) # Compute the largest gap\n",
    "\n",
    "    sim_result = dict()\n",
    "    sim_result['id'] = simid\n",
    "    sim_result['Dq'] = Dq\n",
    "\n",
    "    return(sim_result)"
   ]
  },
  {
   "cell_type": "markdown",
   "metadata": {},
   "source": [
    "Next, set up the experiment."
   ]
  },
  {
   "cell_type": "code",
   "execution_count": 3,
   "metadata": {},
   "outputs": [],
   "source": [
    "start_time = time.time()\n",
    "nsim = 1000                 # number of permutations to perform\n",
    "nthreads = 6                # number of parallel threads to launch\n",
    "dataDir = './data'          # directory in which input data is stored\n",
    "ICN = 'SN'                  # ICN for which to perform the experiment: options are 'SN', 'ECN', 'DMN', or 'Global' "
   ]
  },
  {
   "cell_type": "markdown",
   "metadata": {},
   "source": [
    "Now, before beginning the permutations, let us compute the test statistic for the unpermuted data"
   ]
  },
  {
   "cell_type": "code",
   "execution_count": 4,
   "metadata": {},
   "outputs": [
    {
     "name": "stdout",
     "output_type": "stream",
     "text": [
      "Test statistic for input (unpermuted) data:  21\n"
     ]
    }
   ],
   "source": [
    "icn_asd, icn_tdc = loadSCGData(ICN)\n",
    "mst_asd, mst_tdc = getMST(icn_asd, icn_tdc)\n",
    "beta_asd, beta_tdc, _ = getBettiCurve(mst_asd, mst_tdc)\n",
    "Dq_Orig = np.max(abs(np.asarray(beta_asd) - np.asarray(beta_tdc)))\n",
    "\n",
    "print('Test statistic for input (unpermuted) data: ', Dq_Orig)"
   ]
  },
  {
   "cell_type": "markdown",
   "metadata": {},
   "source": [
    "Now, perform the specified number of permutations to obtain the null distribution of the test statistic and compute the p-value for the unpermuted samples."
   ]
  },
  {
   "cell_type": "code",
   "execution_count": 5,
   "metadata": {},
   "outputs": [
    {
     "name": "stdout",
     "output_type": "stream",
     "text": [
      "Setting up parallet threads\n",
      "p-value 0.004995004995004995\n"
     ]
    }
   ],
   "source": [
    "print('Setting up parallet threads')\n",
    "\n",
    "args = [(simid, icn_asd, icn_tdc, unpack('I', urandom(4))[0])\n",
    "        for simid in range(nsim)]\n",
    "result = []\n",
    "p = mproc.Pool(nthreads)\n",
    "result = p.map(simulate_permutations, args)\n",
    "p.close()\n",
    "p.join()\n",
    "\n",
    "Dq_list = np.asarray([s['Dq'] for s in result])\n",
    "pval = (np.sum(Dq_list >= Dq_Orig)*1.0 + 1) / (len(Dq_list) + 1)\n",
    "print('p-value', pval)"
   ]
  },
  {
   "cell_type": "markdown",
   "metadata": {},
   "source": [
    "Finally, plot the null distribution, i.e., the histogram of the $D_q$ values obtained from the permuted samples."
   ]
  },
  {
   "cell_type": "code",
   "execution_count": 6,
   "metadata": {
    "scrolled": true
   },
   "outputs": [
    {
     "name": "stdout",
     "output_type": "stream",
     "text": [
      "Plotting the null distribution\n"
     ]
    },
    {
     "data": {
      "image/png": "[encoded data removed]",
      "text/plain": [
       "<Figure size 432x288 with 1 Axes>"
      ]
     },
     "metadata": {
      "needs_background": "light"
     },
     "output_type": "display_data"
    }
   ],
   "source": [
    "print('Plotting the null distribution')\n",
    "m = np.max(beta_asd+beta_tdc)\n",
    "f = plt.figure()\n",
    "n, bins, patches = plt.hist(Dq_list, bins=np.arange(-0.5, m + 0.5, 1.), color='b')\n",
    "plt.axvline(Dq_Orig, color='r', linestyle='-', linewidth=2)\n",
    "plt.axvline(np.mean(Dq_list), color='g', linestyle='-', linewidth=2)\n",
    "plt.xlabel(r'Dq')\n",
    "plt.ylabel(r'frequency')\n",
    "plt.title(r'Distribution of Dq for ' + ICN + '-SCG')\n",
    "plt.grid(True)\n",
    "plt.show()"
   ]
  },
  {
   "cell_type": "markdown",
   "metadata": {},
   "source": [
    "Recall that $D_q^*$ is the test statistic for the unpermuted samples. The red vertical line indicates where $D_q^*$ lies along the $x$-axis in relation to the null distribution. Intuitively, the p-value is the area of the histogram on the right of the red vertical line. The green line indicates the mean of the null distribution."
   ]
  }
 ],
 "metadata": {
  "kernelspec": {
   "display_name": "Python 3",
   "language": "python",
   "name": "python3"
  },
  "language_info": {
   "codemirror_mode": {
    "name": "ipython",
    "version": 3
   },
   "file_extension": ".py",
   "mimetype": "text/x-python",
   "name": "python",
   "nbconvert_exporter": "python",
   "pygments_lexer": "ipython3",
   "version": "3.6.10"
  }
 },
 "nbformat": 4,
 "nbformat_minor": 4
}
